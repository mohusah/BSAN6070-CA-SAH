{
  "nbformat": 4,
  "nbformat_minor": 0,
  "metadata": {
    "colab": {
      "name": "CA05A.ipynb",
      "provenance": [],
      "collapsed_sections": []
    },
    "kernelspec": {
      "name": "python3",
      "display_name": "Python 3"
    }
  },
  "cells": [
    {
      "cell_type": "markdown",
      "metadata": {
        "id": "kITRmEwD_G0N",
        "colab_type": "text"
      },
      "source": [
        "# CA05-A – Logistic Regression \n",
        "\n",
        "##1.  The Application\n",
        "\n",
        " Cardiovascular Disease (CVD) kills more people than cancer globally. A dataset of real heart patients collected from a 15 year heart study cohort is made available for this assignment. The dataset has 16 patient features. Note that none of the features include any Blood Test information"
      ]
    },
    {
      "cell_type": "code",
      "metadata": {
        "id": "WykP54Do_YHS",
        "colab_type": "code",
        "colab": {}
      },
      "source": [
        "import pandas as pd\n",
        "import numpy as np\n",
        "from sklearn.linear_model import LogisticRegression\n",
        "from sklearn.datasets import load_iris\n",
        "from sklearn.model_selection import train_test_split\n",
        "import seaborn as sns\n",
        "import matplotlib as plt"
      ],
      "execution_count": 0,
      "outputs": []
    },
    {
      "cell_type": "code",
      "metadata": {
        "id": "eCPjPLnhdZe9",
        "colab_type": "code",
        "colab": {}
      },
      "source": [
        "data=pd.read_csv('https://github.com/ArinB/CA05-B-Logistic-Regression/raw/master/cvd_data.csv')"
      ],
      "execution_count": 0,
      "outputs": []
    },
    {
      "cell_type": "code",
      "metadata": {
        "id": "pvJX35ga_Bqa",
        "colab_type": "code",
        "outputId": "8ed88bde-a3fb-44b1-ab4d-536cea5be928",
        "colab": {
          "base_uri": "https://localhost:8080/",
          "height": 221
        }
      },
      "source": [
        "print(data.shape)\n",
        "data.head()\n",
        "#Dataset has 17 columns and 3242 rows"
      ],
      "execution_count": 4,
      "outputs": [
        {
          "output_type": "stream",
          "text": [
            "(3242, 17)\n"
          ],
          "name": "stdout"
        },
        {
          "output_type": "execute_result",
          "data": {
            "text/html": [
              "<div>\n",
              "<style scoped>\n",
              "    .dataframe tbody tr th:only-of-type {\n",
              "        vertical-align: middle;\n",
              "    }\n",
              "\n",
              "    .dataframe tbody tr th {\n",
              "        vertical-align: top;\n",
              "    }\n",
              "\n",
              "    .dataframe thead th {\n",
              "        text-align: right;\n",
              "    }\n",
              "</style>\n",
              "<table border=\"1\" class=\"dataframe\">\n",
              "  <thead>\n",
              "    <tr style=\"text-align: right;\">\n",
              "      <th></th>\n",
              "      <th>cvd_4types</th>\n",
              "      <th>age_s1</th>\n",
              "      <th>race</th>\n",
              "      <th>educat</th>\n",
              "      <th>mstat</th>\n",
              "      <th>hip</th>\n",
              "      <th>neck20</th>\n",
              "      <th>waist</th>\n",
              "      <th>av_weight_kg</th>\n",
              "      <th>cgpkyr</th>\n",
              "      <th>tea15</th>\n",
              "      <th>srhype</th>\n",
              "      <th>parrptdiab</th>\n",
              "      <th>bend25</th>\n",
              "      <th>happy25</th>\n",
              "      <th>tired25</th>\n",
              "      <th>hlthlm25</th>\n",
              "    </tr>\n",
              "  </thead>\n",
              "  <tbody>\n",
              "    <tr>\n",
              "      <th>0</th>\n",
              "      <td>0</td>\n",
              "      <td>54</td>\n",
              "      <td>1</td>\n",
              "      <td>2</td>\n",
              "      <td>1</td>\n",
              "      <td>110.0</td>\n",
              "      <td>40.0</td>\n",
              "      <td>108.0</td>\n",
              "      <td>87.5</td>\n",
              "      <td>34.0</td>\n",
              "      <td>0</td>\n",
              "      <td>1</td>\n",
              "      <td>0</td>\n",
              "      <td>1</td>\n",
              "      <td>2</td>\n",
              "      <td>3</td>\n",
              "      <td>4</td>\n",
              "    </tr>\n",
              "    <tr>\n",
              "      <th>1</th>\n",
              "      <td>0</td>\n",
              "      <td>56</td>\n",
              "      <td>3</td>\n",
              "      <td>2</td>\n",
              "      <td>1</td>\n",
              "      <td>113.0</td>\n",
              "      <td>34.0</td>\n",
              "      <td>107.0</td>\n",
              "      <td>83.5</td>\n",
              "      <td>0.0</td>\n",
              "      <td>0</td>\n",
              "      <td>0</td>\n",
              "      <td>0</td>\n",
              "      <td>2</td>\n",
              "      <td>2</td>\n",
              "      <td>1</td>\n",
              "      <td>3</td>\n",
              "    </tr>\n",
              "    <tr>\n",
              "      <th>2</th>\n",
              "      <td>0</td>\n",
              "      <td>54</td>\n",
              "      <td>1</td>\n",
              "      <td>3</td>\n",
              "      <td>1</td>\n",
              "      <td>110.0</td>\n",
              "      <td>44.5</td>\n",
              "      <td>105.0</td>\n",
              "      <td>86.2</td>\n",
              "      <td>49.5</td>\n",
              "      <td>0</td>\n",
              "      <td>0</td>\n",
              "      <td>0</td>\n",
              "      <td>3</td>\n",
              "      <td>2</td>\n",
              "      <td>6</td>\n",
              "      <td>4</td>\n",
              "    </tr>\n",
              "    <tr>\n",
              "      <th>3</th>\n",
              "      <td>0</td>\n",
              "      <td>54</td>\n",
              "      <td>1</td>\n",
              "      <td>3</td>\n",
              "      <td>1</td>\n",
              "      <td>129.0</td>\n",
              "      <td>42.5</td>\n",
              "      <td>110.0</td>\n",
              "      <td>89.1</td>\n",
              "      <td>0.0</td>\n",
              "      <td>0</td>\n",
              "      <td>0</td>\n",
              "      <td>0</td>\n",
              "      <td>3</td>\n",
              "      <td>2</td>\n",
              "      <td>1</td>\n",
              "      <td>3</td>\n",
              "    </tr>\n",
              "    <tr>\n",
              "      <th>4</th>\n",
              "      <td>0</td>\n",
              "      <td>51</td>\n",
              "      <td>3</td>\n",
              "      <td>2</td>\n",
              "      <td>1</td>\n",
              "      <td>122.0</td>\n",
              "      <td>37.0</td>\n",
              "      <td>113.0</td>\n",
              "      <td>81.3</td>\n",
              "      <td>0.0</td>\n",
              "      <td>0</td>\n",
              "      <td>0</td>\n",
              "      <td>0</td>\n",
              "      <td>2</td>\n",
              "      <td>1</td>\n",
              "      <td>1</td>\n",
              "      <td>2</td>\n",
              "    </tr>\n",
              "  </tbody>\n",
              "</table>\n",
              "</div>"
            ],
            "text/plain": [
              "   cvd_4types  age_s1  race  educat  ...  bend25  happy25  tired25  hlthlm25\n",
              "0           0      54     1       2  ...       1        2        3         4\n",
              "1           0      56     3       2  ...       2        2        1         3\n",
              "2           0      54     1       3  ...       3        2        6         4\n",
              "3           0      54     1       3  ...       3        2        1         3\n",
              "4           0      51     3       2  ...       2        1        1         2\n",
              "\n",
              "[5 rows x 17 columns]"
            ]
          },
          "metadata": {
            "tags": []
          },
          "execution_count": 4
        }
      ]
    },
    {
      "cell_type": "markdown",
      "metadata": {
        "id": "su1M_m4Ggqzc",
        "colab_type": "text"
      },
      "source": [
        "## Data exploration\n",
        "\n",
        "Counting null values and seeing the proportion of output variable"
      ]
    },
    {
      "cell_type": "code",
      "metadata": {
        "id": "lvl5xm2gfvof",
        "colab_type": "code",
        "outputId": "dddf90a8-64aa-417e-c377-0a15b79ee834",
        "colab": {
          "base_uri": "https://localhost:8080/",
          "height": 351
        }
      },
      "source": [
        "\n",
        "print(data['cvd_4types'].value_counts())\n",
        "\n",
        "sns.countplot(x='cvd_4types',hue='cvd_4types',data=data,palette='RdBu_r') # The ones with cardiovascular disease are in red and the ones dont are in blue"
      ],
      "execution_count": 5,
      "outputs": [
        {
          "output_type": "stream",
          "text": [
            "1    1913\n",
            "0    1329\n",
            "Name: cvd_4types, dtype: int64\n"
          ],
          "name": "stdout"
        },
        {
          "output_type": "execute_result",
          "data": {
            "text/plain": [
              "<matplotlib.axes._subplots.AxesSubplot at 0x7f1d1e48d400>"
            ]
          },
          "metadata": {
            "tags": []
          },
          "execution_count": 5
        },
        {
          "output_type": "display_data",
          "data": {
            "image/png": "[encoded data removed]",
            "text/plain": [
              "<Figure size 432x288 with 1 Axes>"
            ]
          },
          "metadata": {
            "tags": []
          }
        }
      ]
    },
    {
      "cell_type": "code",
      "metadata": {
        "id": "TorqDavHIlcG",
        "colab_type": "code",
        "outputId": "df049318-8a12-4b2b-d143-150abc268f21",
        "colab": {
          "base_uri": "https://localhost:8080/",
          "height": 596
        }
      },
      "source": [
        "#Collinearity\n",
        " \n",
        "data.corr(method ='pearson') \n",
        "# variables which have high correlation can be taken out\n",
        "#hip #waist #av_weight_kg"
      ],
      "execution_count": 6,
      "outputs": [
        {
          "output_type": "execute_result",
          "data": {
            "text/html": [
              "<div>\n",
              "<style scoped>\n",
              "    .dataframe tbody tr th:only-of-type {\n",
              "        vertical-align: middle;\n",
              "    }\n",
              "\n",
              "    .dataframe tbody tr th {\n",
              "        vertical-align: top;\n",
              "    }\n",
              "\n",
              "    .dataframe thead th {\n",
              "        text-align: right;\n",
              "    }\n",
              "</style>\n",
              "<table border=\"1\" class=\"dataframe\">\n",
              "  <thead>\n",
              "    <tr style=\"text-align: right;\">\n",
              "      <th></th>\n",
              "      <th>cvd_4types</th>\n",
              "      <th>age_s1</th>\n",
              "      <th>race</th>\n",
              "      <th>educat</th>\n",
              "      <th>mstat</th>\n",
              "      <th>hip</th>\n",
              "      <th>neck20</th>\n",
              "      <th>waist</th>\n",
              "      <th>av_weight_kg</th>\n",
              "      <th>cgpkyr</th>\n",
              "      <th>tea15</th>\n",
              "      <th>srhype</th>\n",
              "      <th>parrptdiab</th>\n",
              "      <th>bend25</th>\n",
              "      <th>happy25</th>\n",
              "      <th>tired25</th>\n",
              "      <th>hlthlm25</th>\n",
              "    </tr>\n",
              "  </thead>\n",
              "  <tbody>\n",
              "    <tr>\n",
              "      <th>cvd_4types</th>\n",
              "      <td>1.000000</td>\n",
              "      <td>0.089168</td>\n",
              "      <td>-0.143843</td>\n",
              "      <td>0.053662</td>\n",
              "      <td>-0.076659</td>\n",
              "      <td>0.018482</td>\n",
              "      <td>0.101653</td>\n",
              "      <td>0.203104</td>\n",
              "      <td>0.058616</td>\n",
              "      <td>0.037151</td>\n",
              "      <td>-0.028436</td>\n",
              "      <td>0.071819</td>\n",
              "      <td>0.074406</td>\n",
              "      <td>-0.009653</td>\n",
              "      <td>-0.033048</td>\n",
              "      <td>0.022130</td>\n",
              "      <td>-0.126168</td>\n",
              "    </tr>\n",
              "    <tr>\n",
              "      <th>age_s1</th>\n",
              "      <td>0.089168</td>\n",
              "      <td>1.000000</td>\n",
              "      <td>0.000626</td>\n",
              "      <td>-0.207595</td>\n",
              "      <td>0.013170</td>\n",
              "      <td>-0.121743</td>\n",
              "      <td>-0.001135</td>\n",
              "      <td>0.086363</td>\n",
              "      <td>0.073152</td>\n",
              "      <td>0.072336</td>\n",
              "      <td>-0.007279</td>\n",
              "      <td>0.268032</td>\n",
              "      <td>0.140819</td>\n",
              "      <td>-0.224303</td>\n",
              "      <td>-0.044323</td>\n",
              "      <td>0.012448</td>\n",
              "      <td>-0.164790</td>\n",
              "    </tr>\n",
              "    <tr>\n",
              "      <th>race</th>\n",
              "      <td>-0.143843</td>\n",
              "      <td>0.000626</td>\n",
              "      <td>1.000000</td>\n",
              "      <td>-0.061934</td>\n",
              "      <td>0.058878</td>\n",
              "      <td>0.030535</td>\n",
              "      <td>-0.010810</td>\n",
              "      <td>0.012960</td>\n",
              "      <td>0.045118</td>\n",
              "      <td>-0.040240</td>\n",
              "      <td>-0.005746</td>\n",
              "      <td>0.053822</td>\n",
              "      <td>0.079818</td>\n",
              "      <td>-0.064647</td>\n",
              "      <td>0.005103</td>\n",
              "      <td>-0.014226</td>\n",
              "      <td>-0.117117</td>\n",
              "    </tr>\n",
              "    <tr>\n",
              "      <th>educat</th>\n",
              "      <td>0.053662</td>\n",
              "      <td>-0.207595</td>\n",
              "      <td>-0.061934</td>\n",
              "      <td>1.000000</td>\n",
              "      <td>0.026047</td>\n",
              "      <td>-0.008162</td>\n",
              "      <td>0.000856</td>\n",
              "      <td>-0.057212</td>\n",
              "      <td>-0.052692</td>\n",
              "      <td>-0.047632</td>\n",
              "      <td>0.022097</td>\n",
              "      <td>-0.110072</td>\n",
              "      <td>-0.117066</td>\n",
              "      <td>0.166887</td>\n",
              "      <td>-0.093659</td>\n",
              "      <td>0.079794</td>\n",
              "      <td>0.096398</td>\n",
              "    </tr>\n",
              "    <tr>\n",
              "      <th>mstat</th>\n",
              "      <td>-0.076659</td>\n",
              "      <td>0.013170</td>\n",
              "      <td>0.058878</td>\n",
              "      <td>0.026047</td>\n",
              "      <td>1.000000</td>\n",
              "      <td>0.012425</td>\n",
              "      <td>-0.078962</td>\n",
              "      <td>-0.044175</td>\n",
              "      <td>-0.046429</td>\n",
              "      <td>-0.006983</td>\n",
              "      <td>0.012250</td>\n",
              "      <td>-0.002689</td>\n",
              "      <td>0.012210</td>\n",
              "      <td>-0.016304</td>\n",
              "      <td>0.033619</td>\n",
              "      <td>-0.031645</td>\n",
              "      <td>-0.055162</td>\n",
              "    </tr>\n",
              "    <tr>\n",
              "      <th>hip</th>\n",
              "      <td>0.018482</td>\n",
              "      <td>-0.121743</td>\n",
              "      <td>0.030535</td>\n",
              "      <td>-0.008162</td>\n",
              "      <td>0.012425</td>\n",
              "      <td>1.000000</td>\n",
              "      <td>0.321828</td>\n",
              "      <td>0.710743</td>\n",
              "      <td>0.428565</td>\n",
              "      <td>-0.006662</td>\n",
              "      <td>0.003894</td>\n",
              "      <td>0.121578</td>\n",
              "      <td>0.085835</td>\n",
              "      <td>-0.229975</td>\n",
              "      <td>0.029561</td>\n",
              "      <td>-0.131190</td>\n",
              "      <td>-0.096214</td>\n",
              "    </tr>\n",
              "    <tr>\n",
              "      <th>neck20</th>\n",
              "      <td>0.101653</td>\n",
              "      <td>-0.001135</td>\n",
              "      <td>-0.010810</td>\n",
              "      <td>0.000856</td>\n",
              "      <td>-0.078962</td>\n",
              "      <td>0.321828</td>\n",
              "      <td>1.000000</td>\n",
              "      <td>0.617500</td>\n",
              "      <td>0.525890</td>\n",
              "      <td>0.190235</td>\n",
              "      <td>0.022729</td>\n",
              "      <td>0.105139</td>\n",
              "      <td>0.118303</td>\n",
              "      <td>-0.091327</td>\n",
              "      <td>0.008170</td>\n",
              "      <td>0.002945</td>\n",
              "      <td>-0.010144</td>\n",
              "    </tr>\n",
              "    <tr>\n",
              "      <th>waist</th>\n",
              "      <td>0.203104</td>\n",
              "      <td>0.086363</td>\n",
              "      <td>0.012960</td>\n",
              "      <td>-0.057212</td>\n",
              "      <td>-0.044175</td>\n",
              "      <td>0.710743</td>\n",
              "      <td>0.617500</td>\n",
              "      <td>1.000000</td>\n",
              "      <td>0.641330</td>\n",
              "      <td>0.112615</td>\n",
              "      <td>0.014916</td>\n",
              "      <td>0.201122</td>\n",
              "      <td>0.134582</td>\n",
              "      <td>-0.246275</td>\n",
              "      <td>0.020475</td>\n",
              "      <td>-0.091524</td>\n",
              "      <td>-0.111527</td>\n",
              "    </tr>\n",
              "    <tr>\n",
              "      <th>av_weight_kg</th>\n",
              "      <td>0.058616</td>\n",
              "      <td>0.073152</td>\n",
              "      <td>0.045118</td>\n",
              "      <td>-0.052692</td>\n",
              "      <td>-0.046429</td>\n",
              "      <td>0.428565</td>\n",
              "      <td>0.525890</td>\n",
              "      <td>0.641330</td>\n",
              "      <td>1.000000</td>\n",
              "      <td>0.111671</td>\n",
              "      <td>0.013763</td>\n",
              "      <td>0.196695</td>\n",
              "      <td>0.094746</td>\n",
              "      <td>-0.155036</td>\n",
              "      <td>0.028020</td>\n",
              "      <td>-0.054466</td>\n",
              "      <td>-0.015056</td>\n",
              "    </tr>\n",
              "    <tr>\n",
              "      <th>cgpkyr</th>\n",
              "      <td>0.037151</td>\n",
              "      <td>0.072336</td>\n",
              "      <td>-0.040240</td>\n",
              "      <td>-0.047632</td>\n",
              "      <td>-0.006983</td>\n",
              "      <td>-0.006662</td>\n",
              "      <td>0.190235</td>\n",
              "      <td>0.112615</td>\n",
              "      <td>0.111671</td>\n",
              "      <td>1.000000</td>\n",
              "      <td>0.000500</td>\n",
              "      <td>0.013163</td>\n",
              "      <td>0.044049</td>\n",
              "      <td>-0.056544</td>\n",
              "      <td>0.026469</td>\n",
              "      <td>-0.051990</td>\n",
              "      <td>-0.030523</td>\n",
              "    </tr>\n",
              "    <tr>\n",
              "      <th>tea15</th>\n",
              "      <td>-0.028436</td>\n",
              "      <td>-0.007279</td>\n",
              "      <td>-0.005746</td>\n",
              "      <td>0.022097</td>\n",
              "      <td>0.012250</td>\n",
              "      <td>0.003894</td>\n",
              "      <td>0.022729</td>\n",
              "      <td>0.014916</td>\n",
              "      <td>0.013763</td>\n",
              "      <td>0.000500</td>\n",
              "      <td>1.000000</td>\n",
              "      <td>-0.018012</td>\n",
              "      <td>-0.012237</td>\n",
              "      <td>0.011131</td>\n",
              "      <td>-0.004694</td>\n",
              "      <td>0.002935</td>\n",
              "      <td>0.022939</td>\n",
              "    </tr>\n",
              "    <tr>\n",
              "      <th>srhype</th>\n",
              "      <td>0.071819</td>\n",
              "      <td>0.268032</td>\n",
              "      <td>0.053822</td>\n",
              "      <td>-0.110072</td>\n",
              "      <td>-0.002689</td>\n",
              "      <td>0.121578</td>\n",
              "      <td>0.105139</td>\n",
              "      <td>0.201122</td>\n",
              "      <td>0.196695</td>\n",
              "      <td>0.013163</td>\n",
              "      <td>-0.018012</td>\n",
              "      <td>1.000000</td>\n",
              "      <td>0.134026</td>\n",
              "      <td>-0.154113</td>\n",
              "      <td>0.048315</td>\n",
              "      <td>-0.085701</td>\n",
              "      <td>-0.141636</td>\n",
              "    </tr>\n",
              "    <tr>\n",
              "      <th>parrptdiab</th>\n",
              "      <td>0.074406</td>\n",
              "      <td>0.140819</td>\n",
              "      <td>0.079818</td>\n",
              "      <td>-0.117066</td>\n",
              "      <td>0.012210</td>\n",
              "      <td>0.085835</td>\n",
              "      <td>0.118303</td>\n",
              "      <td>0.134582</td>\n",
              "      <td>0.094746</td>\n",
              "      <td>0.044049</td>\n",
              "      <td>-0.012237</td>\n",
              "      <td>0.134026</td>\n",
              "      <td>1.000000</td>\n",
              "      <td>-0.122084</td>\n",
              "      <td>0.039256</td>\n",
              "      <td>-0.037445</td>\n",
              "      <td>-0.090878</td>\n",
              "    </tr>\n",
              "    <tr>\n",
              "      <th>bend25</th>\n",
              "      <td>-0.009653</td>\n",
              "      <td>-0.224303</td>\n",
              "      <td>-0.064647</td>\n",
              "      <td>0.166887</td>\n",
              "      <td>-0.016304</td>\n",
              "      <td>-0.229975</td>\n",
              "      <td>-0.091327</td>\n",
              "      <td>-0.246275</td>\n",
              "      <td>-0.155036</td>\n",
              "      <td>-0.056544</td>\n",
              "      <td>0.011131</td>\n",
              "      <td>-0.154113</td>\n",
              "      <td>-0.122084</td>\n",
              "      <td>1.000000</td>\n",
              "      <td>-0.152462</td>\n",
              "      <td>0.283390</td>\n",
              "      <td>0.267927</td>\n",
              "    </tr>\n",
              "    <tr>\n",
              "      <th>happy25</th>\n",
              "      <td>-0.033048</td>\n",
              "      <td>-0.044323</td>\n",
              "      <td>0.005103</td>\n",
              "      <td>-0.093659</td>\n",
              "      <td>0.033619</td>\n",
              "      <td>0.029561</td>\n",
              "      <td>0.008170</td>\n",
              "      <td>0.020475</td>\n",
              "      <td>0.028020</td>\n",
              "      <td>0.026469</td>\n",
              "      <td>-0.004694</td>\n",
              "      <td>0.048315</td>\n",
              "      <td>0.039256</td>\n",
              "      <td>-0.152462</td>\n",
              "      <td>1.000000</td>\n",
              "      <td>-0.320671</td>\n",
              "      <td>-0.209958</td>\n",
              "    </tr>\n",
              "    <tr>\n",
              "      <th>tired25</th>\n",
              "      <td>0.022130</td>\n",
              "      <td>0.012448</td>\n",
              "      <td>-0.014226</td>\n",
              "      <td>0.079794</td>\n",
              "      <td>-0.031645</td>\n",
              "      <td>-0.131190</td>\n",
              "      <td>0.002945</td>\n",
              "      <td>-0.091524</td>\n",
              "      <td>-0.054466</td>\n",
              "      <td>-0.051990</td>\n",
              "      <td>0.002935</td>\n",
              "      <td>-0.085701</td>\n",
              "      <td>-0.037445</td>\n",
              "      <td>0.283390</td>\n",
              "      <td>-0.320671</td>\n",
              "      <td>1.000000</td>\n",
              "      <td>0.327735</td>\n",
              "    </tr>\n",
              "    <tr>\n",
              "      <th>hlthlm25</th>\n",
              "      <td>-0.126168</td>\n",
              "      <td>-0.164790</td>\n",
              "      <td>-0.117117</td>\n",
              "      <td>0.096398</td>\n",
              "      <td>-0.055162</td>\n",
              "      <td>-0.096214</td>\n",
              "      <td>-0.010144</td>\n",
              "      <td>-0.111527</td>\n",
              "      <td>-0.015056</td>\n",
              "      <td>-0.030523</td>\n",
              "      <td>0.022939</td>\n",
              "      <td>-0.141636</td>\n",
              "      <td>-0.090878</td>\n",
              "      <td>0.267927</td>\n",
              "      <td>-0.209958</td>\n",
              "      <td>0.327735</td>\n",
              "      <td>1.000000</td>\n",
              "    </tr>\n",
              "  </tbody>\n",
              "</table>\n",
              "</div>"
            ],
            "text/plain": [
              "              cvd_4types    age_s1      race  ...   happy25   tired25  hlthlm25\n",
              "cvd_4types      1.000000  0.089168 -0.143843  ... -0.033048  0.022130 -0.126168\n",
              "age_s1          0.089168  1.000000  0.000626  ... -0.044323  0.012448 -0.164790\n",
              "race           -0.143843  0.000626  1.000000  ...  0.005103 -0.014226 -0.117117\n",
              "educat          0.053662 -0.207595 -0.061934  ... -0.093659  0.079794  0.096398\n",
              "mstat          -0.076659  0.013170  0.058878  ...  0.033619 -0.031645 -0.055162\n",
              "hip             0.018482 -0.121743  0.030535  ...  0.029561 -0.131190 -0.096214\n",
              "neck20          0.101653 -0.001135 -0.010810  ...  0.008170  0.002945 -0.010144\n",
              "waist           0.203104  0.086363  0.012960  ...  0.020475 -0.091524 -0.111527\n",
              "av_weight_kg    0.058616  0.073152  0.045118  ...  0.028020 -0.054466 -0.015056\n",
              "cgpkyr          0.037151  0.072336 -0.040240  ...  0.026469 -0.051990 -0.030523\n",
              "tea15          -0.028436 -0.007279 -0.005746  ... -0.004694  0.002935  0.022939\n",
              "srhype          0.071819  0.268032  0.053822  ...  0.048315 -0.085701 -0.141636\n",
              "parrptdiab      0.074406  0.140819  0.079818  ...  0.039256 -0.037445 -0.090878\n",
              "bend25         -0.009653 -0.224303 -0.064647  ... -0.152462  0.283390  0.267927\n",
              "happy25        -0.033048 -0.044323  0.005103  ...  1.000000 -0.320671 -0.209958\n",
              "tired25         0.022130  0.012448 -0.014226  ... -0.320671  1.000000  0.327735\n",
              "hlthlm25       -0.126168 -0.164790 -0.117117  ... -0.209958  0.327735  1.000000\n",
              "\n",
              "[17 rows x 17 columns]"
            ]
          },
          "metadata": {
            "tags": []
          },
          "execution_count": 6
        }
      ]
    },
    {
      "cell_type": "code",
      "metadata": {
        "id": "hAkFLOofH1xH",
        "colab_type": "code",
        "colab": {}
      },
      "source": [
        "data=data.drop(['hip'], axis=1) # drop hip as it is highly correlated to waist\n"
      ],
      "execution_count": 0,
      "outputs": []
    },
    {
      "cell_type": "markdown",
      "metadata": {
        "id": "HP4xNeilApOB",
        "colab_type": "text"
      },
      "source": [
        "Create dummy variables"
      ]
    },
    {
      "cell_type": "code",
      "metadata": {
        "id": "4wWNX9ODVXxJ",
        "colab_type": "code",
        "outputId": "50edba64-eab4-41c4-cfc8-dfeaa717450a",
        "colab": {
          "base_uri": "https://localhost:8080/",
          "height": 224
        }
      },
      "source": [
        "data = pd.get_dummies(data, columns=['race', 'educat', 'mstat', 'srhype', 'parrptdiab', 'parrptdiab', 'happy25','tired25','hlthlm25'],drop_first=True)\n",
        "data.head()\n"
      ],
      "execution_count": 8,
      "outputs": [
        {
          "output_type": "execute_result",
          "data": {
            "text/html": [
              "<div>\n",
              "<style scoped>\n",
              "    .dataframe tbody tr th:only-of-type {\n",
              "        vertical-align: middle;\n",
              "    }\n",
              "\n",
              "    .dataframe tbody tr th {\n",
              "        vertical-align: top;\n",
              "    }\n",
              "\n",
              "    .dataframe thead th {\n",
              "        text-align: right;\n",
              "    }\n",
              "</style>\n",
              "<table border=\"1\" class=\"dataframe\">\n",
              "  <thead>\n",
              "    <tr style=\"text-align: right;\">\n",
              "      <th></th>\n",
              "      <th>cvd_4types</th>\n",
              "      <th>age_s1</th>\n",
              "      <th>neck20</th>\n",
              "      <th>waist</th>\n",
              "      <th>av_weight_kg</th>\n",
              "      <th>cgpkyr</th>\n",
              "      <th>tea15</th>\n",
              "      <th>bend25</th>\n",
              "      <th>race_2</th>\n",
              "      <th>race_3</th>\n",
              "      <th>educat_2</th>\n",
              "      <th>educat_3</th>\n",
              "      <th>educat_4</th>\n",
              "      <th>mstat_2</th>\n",
              "      <th>mstat_3</th>\n",
              "      <th>mstat_4</th>\n",
              "      <th>mstat_8</th>\n",
              "      <th>srhype_1</th>\n",
              "      <th>parrptdiab_1</th>\n",
              "      <th>parrptdiab_1</th>\n",
              "      <th>happy25_2</th>\n",
              "      <th>happy25_3</th>\n",
              "      <th>happy25_4</th>\n",
              "      <th>happy25_5</th>\n",
              "      <th>happy25_6</th>\n",
              "      <th>tired25_2</th>\n",
              "      <th>tired25_3</th>\n",
              "      <th>tired25_4</th>\n",
              "      <th>tired25_5</th>\n",
              "      <th>tired25_6</th>\n",
              "      <th>hlthlm25_2</th>\n",
              "      <th>hlthlm25_3</th>\n",
              "      <th>hlthlm25_4</th>\n",
              "      <th>hlthlm25_5</th>\n",
              "    </tr>\n",
              "  </thead>\n",
              "  <tbody>\n",
              "    <tr>\n",
              "      <th>0</th>\n",
              "      <td>0</td>\n",
              "      <td>54</td>\n",
              "      <td>40.0</td>\n",
              "      <td>108.0</td>\n",
              "      <td>87.5</td>\n",
              "      <td>34.0</td>\n",
              "      <td>0</td>\n",
              "      <td>1</td>\n",
              "      <td>0</td>\n",
              "      <td>0</td>\n",
              "      <td>1</td>\n",
              "      <td>0</td>\n",
              "      <td>0</td>\n",
              "      <td>0</td>\n",
              "      <td>0</td>\n",
              "      <td>0</td>\n",
              "      <td>0</td>\n",
              "      <td>1</td>\n",
              "      <td>0</td>\n",
              "      <td>0</td>\n",
              "      <td>1</td>\n",
              "      <td>0</td>\n",
              "      <td>0</td>\n",
              "      <td>0</td>\n",
              "      <td>0</td>\n",
              "      <td>0</td>\n",
              "      <td>1</td>\n",
              "      <td>0</td>\n",
              "      <td>0</td>\n",
              "      <td>0</td>\n",
              "      <td>0</td>\n",
              "      <td>0</td>\n",
              "      <td>1</td>\n",
              "      <td>0</td>\n",
              "    </tr>\n",
              "    <tr>\n",
              "      <th>1</th>\n",
              "      <td>0</td>\n",
              "      <td>56</td>\n",
              "      <td>34.0</td>\n",
              "      <td>107.0</td>\n",
              "      <td>83.5</td>\n",
              "      <td>0.0</td>\n",
              "      <td>0</td>\n",
              "      <td>2</td>\n",
              "      <td>0</td>\n",
              "      <td>1</td>\n",
              "      <td>1</td>\n",
              "      <td>0</td>\n",
              "      <td>0</td>\n",
              "      <td>0</td>\n",
              "      <td>0</td>\n",
              "      <td>0</td>\n",
              "      <td>0</td>\n",
              "      <td>0</td>\n",
              "      <td>0</td>\n",
              "      <td>0</td>\n",
              "      <td>1</td>\n",
              "      <td>0</td>\n",
              "      <td>0</td>\n",
              "      <td>0</td>\n",
              "      <td>0</td>\n",
              "      <td>0</td>\n",
              "      <td>0</td>\n",
              "      <td>0</td>\n",
              "      <td>0</td>\n",
              "      <td>0</td>\n",
              "      <td>0</td>\n",
              "      <td>1</td>\n",
              "      <td>0</td>\n",
              "      <td>0</td>\n",
              "    </tr>\n",
              "    <tr>\n",
              "      <th>2</th>\n",
              "      <td>0</td>\n",
              "      <td>54</td>\n",
              "      <td>44.5</td>\n",
              "      <td>105.0</td>\n",
              "      <td>86.2</td>\n",
              "      <td>49.5</td>\n",
              "      <td>0</td>\n",
              "      <td>3</td>\n",
              "      <td>0</td>\n",
              "      <td>0</td>\n",
              "      <td>0</td>\n",
              "      <td>1</td>\n",
              "      <td>0</td>\n",
              "      <td>0</td>\n",
              "      <td>0</td>\n",
              "      <td>0</td>\n",
              "      <td>0</td>\n",
              "      <td>0</td>\n",
              "      <td>0</td>\n",
              "      <td>0</td>\n",
              "      <td>1</td>\n",
              "      <td>0</td>\n",
              "      <td>0</td>\n",
              "      <td>0</td>\n",
              "      <td>0</td>\n",
              "      <td>0</td>\n",
              "      <td>0</td>\n",
              "      <td>0</td>\n",
              "      <td>0</td>\n",
              "      <td>1</td>\n",
              "      <td>0</td>\n",
              "      <td>0</td>\n",
              "      <td>1</td>\n",
              "      <td>0</td>\n",
              "    </tr>\n",
              "    <tr>\n",
              "      <th>3</th>\n",
              "      <td>0</td>\n",
              "      <td>54</td>\n",
              "      <td>42.5</td>\n",
              "      <td>110.0</td>\n",
              "      <td>89.1</td>\n",
              "      <td>0.0</td>\n",
              "      <td>0</td>\n",
              "      <td>3</td>\n",
              "      <td>0</td>\n",
              "      <td>0</td>\n",
              "      <td>0</td>\n",
              "      <td>1</td>\n",
              "      <td>0</td>\n",
              "      <td>0</td>\n",
              "      <td>0</td>\n",
              "      <td>0</td>\n",
              "      <td>0</td>\n",
              "      <td>0</td>\n",
              "      <td>0</td>\n",
              "      <td>0</td>\n",
              "      <td>1</td>\n",
              "      <td>0</td>\n",
              "      <td>0</td>\n",
              "      <td>0</td>\n",
              "      <td>0</td>\n",
              "      <td>0</td>\n",
              "      <td>0</td>\n",
              "      <td>0</td>\n",
              "      <td>0</td>\n",
              "      <td>0</td>\n",
              "      <td>0</td>\n",
              "      <td>1</td>\n",
              "      <td>0</td>\n",
              "      <td>0</td>\n",
              "    </tr>\n",
              "    <tr>\n",
              "      <th>4</th>\n",
              "      <td>0</td>\n",
              "      <td>51</td>\n",
              "      <td>37.0</td>\n",
              "      <td>113.0</td>\n",
              "      <td>81.3</td>\n",
              "      <td>0.0</td>\n",
              "      <td>0</td>\n",
              "      <td>2</td>\n",
              "      <td>0</td>\n",
              "      <td>1</td>\n",
              "      <td>1</td>\n",
              "      <td>0</td>\n",
              "      <td>0</td>\n",
              "      <td>0</td>\n",
              "      <td>0</td>\n",
              "      <td>0</td>\n",
              "      <td>0</td>\n",
              "      <td>0</td>\n",
              "      <td>0</td>\n",
              "      <td>0</td>\n",
              "      <td>0</td>\n",
              "      <td>0</td>\n",
              "      <td>0</td>\n",
              "      <td>0</td>\n",
              "      <td>0</td>\n",
              "      <td>0</td>\n",
              "      <td>0</td>\n",
              "      <td>0</td>\n",
              "      <td>0</td>\n",
              "      <td>0</td>\n",
              "      <td>1</td>\n",
              "      <td>0</td>\n",
              "      <td>0</td>\n",
              "      <td>0</td>\n",
              "    </tr>\n",
              "  </tbody>\n",
              "</table>\n",
              "</div>"
            ],
            "text/plain": [
              "   cvd_4types  age_s1  neck20  ...  hlthlm25_3  hlthlm25_4  hlthlm25_5\n",
              "0           0      54    40.0  ...           0           1           0\n",
              "1           0      56    34.0  ...           1           0           0\n",
              "2           0      54    44.5  ...           0           1           0\n",
              "3           0      54    42.5  ...           1           0           0\n",
              "4           0      51    37.0  ...           0           0           0\n",
              "\n",
              "[5 rows x 34 columns]"
            ]
          },
          "metadata": {
            "tags": []
          },
          "execution_count": 8
        }
      ]
    },
    {
      "cell_type": "code",
      "metadata": {
        "id": "-rfwQ1yPFTR6",
        "colab_type": "code",
        "outputId": "4a20b5b1-6502-4962-f5f3-727d9f6129e3",
        "colab": {
          "base_uri": "https://localhost:8080/",
          "height": 34
        }
      },
      "source": [
        "data.shape #from 17 columns now we have 34 columns including all dummy variables"
      ],
      "execution_count": 9,
      "outputs": [
        {
          "output_type": "execute_result",
          "data": {
            "text/plain": [
              "(3242, 34)"
            ]
          },
          "metadata": {
            "tags": []
          },
          "execution_count": 9
        }
      ]
    },
    {
      "cell_type": "markdown",
      "metadata": {
        "id": "TfvS3g3KArvF",
        "colab_type": "text"
      },
      "source": [
        "Test Train split the model"
      ]
    },
    {
      "cell_type": "code",
      "metadata": {
        "id": "0DC_nr6nNGTJ",
        "colab_type": "code",
        "colab": {}
      },
      "source": [
        "X_train, X_test, y_train, y_test = train_test_split(data.drop('cvd_4types',axis=1),data['cvd_4types'],\n",
        "                                                    test_size=0.30, random_state=101)\n"
      ],
      "execution_count": 0,
      "outputs": []
    },
    {
      "cell_type": "markdown",
      "metadata": {
        "id": "OpSxDzwKAt0I",
        "colab_type": "text"
      },
      "source": [
        "Running the model"
      ]
    },
    {
      "cell_type": "code",
      "metadata": {
        "id": "xXtxagShNjix",
        "colab_type": "code",
        "outputId": "2519dac5-f976-46f0-f139-f2695378d015",
        "colab": {
          "base_uri": "https://localhost:8080/",
          "height": 34
        }
      },
      "source": [
        "#Fit , Train the logistic regression classifier\n",
        "from sklearn import linear_model \n",
        "clf=linear_model.LogisticRegression(C=1e40,solver='newton-cg')\n",
        "fitted_model=clf.fit(X_train,y_train)\n",
        "\n",
        "#predict\n",
        "y_pred=clf.predict(X_test)\n",
        "\n",
        "fitted_model.score(X_test,y_test)\n",
        "\n",
        "#the model has acccuracy of 0.70 which eans it is 70% accurate\n"
      ],
      "execution_count": 11,
      "outputs": [
        {
          "output_type": "execute_result",
          "data": {
            "text/plain": [
              "0.7009249743062693"
            ]
          },
          "metadata": {
            "tags": []
          },
          "execution_count": 11
        }
      ]
    },
    {
      "cell_type": "markdown",
      "metadata": {
        "id": "k6Em9rGhg3XB",
        "colab_type": "text"
      },
      "source": [
        "##Finding the best model \n",
        "\n",
        "Using RandomizedSearchCV() module, we will find the best model by changing the hyperparameters"
      ]
    },
    {
      "cell_type": "code",
      "metadata": {
        "id": "xwnFizbZg5Um",
        "colab_type": "code",
        "colab": {
          "base_uri": "https://localhost:8080/",
          "height": 153
        },
        "outputId": "d976a2d5-97cd-4672-c1be-0e8f4c58c78f"
      },
      "source": [
        "from sklearn.model_selection import RandomizedSearchCV\n",
        "from scipy.stats import uniform\n",
        "\n",
        "# Create logistic regression\n",
        "logistic = linear_model.LogisticRegression()\n",
        "\n",
        "# Create regularization penalty space - it is a hyperparameter\n",
        "penalty = ['l1', 'l2']\n",
        "\n",
        "# Create regularization hyperparameter distribution using uniform distribution\n",
        "C = uniform(loc=0, scale=4)\n",
        "\n",
        "# Create hyperparameter options\n",
        "hyperparameters = dict(C=C, penalty=penalty)\n",
        "\n",
        "# Create randomized search 5-fold cross validation and 100 iterations\n",
        "clf = RandomizedSearchCV(logistic, hyperparameters, random_state=1, n_iter=100, cv=5, verbose=0, n_jobs=-1)\n",
        "\n",
        "# Fit randomized search\n",
        "best_model = clf.fit(X_train, y_train)"
      ],
      "execution_count": 13,
      "outputs": [
        {
          "output_type": "stream",
          "text": [
            "/usr/local/lib/python3.6/dist-packages/sklearn/linear_model/_logistic.py:940: ConvergenceWarning: lbfgs failed to converge (status=1):\n",
            "STOP: TOTAL NO. of ITERATIONS REACHED LIMIT.\n",
            "\n",
            "Increase the number of iterations (max_iter) or scale the data as shown in:\n",
            "    https://scikit-learn.org/stable/modules/preprocessing.html\n",
            "Please also refer to the documentation for alternative solver options:\n",
            "    https://scikit-learn.org/stable/modules/linear_model.html#logistic-regression\n",
            "  extra_warning_msg=_LOGISTIC_SOLVER_CONVERGENCE_MSG)\n"
          ],
          "name": "stderr"
        }
      ]
    },
    {
      "cell_type": "code",
      "metadata": {
        "id": "7G3cRYIUjIfS",
        "colab_type": "code",
        "colab": {
          "base_uri": "https://localhost:8080/",
          "height": 51
        },
        "outputId": "113a8e3f-88d9-4972-8b93-e6e6b60a0af2"
      },
      "source": [
        "# View best hyperparameters\n",
        "print('Best Penalty:', best_model.best_estimator_.get_params()['penalty'])\n",
        "print('Best C:', best_model.best_estimator_.get_params()['C'])"
      ],
      "execution_count": 14,
      "outputs": [
        {
          "output_type": "stream",
          "text": [
            "Best Penalty: l2\n",
            "Best C: 0.7450408455106836\n"
          ],
          "name": "stdout"
        }
      ]
    },
    {
      "cell_type": "code",
      "metadata": {
        "id": "aMOIvUthjSa_",
        "colab_type": "code",
        "colab": {
          "base_uri": "https://localhost:8080/",
          "height": 34
        },
        "outputId": "bc414e84-7858-4b2c-cacf-0b1806c7ce1c"
      },
      "source": [
        "# Predict target variable \n",
        "best_model.predict(X_test)\n",
        "#print best model score\n",
        "best_model.score(X_test,y_test)\n",
        "\n",
        "\n",
        "#0.70 is the best score as we achived above as well\n"
      ],
      "execution_count": 15,
      "outputs": [
        {
          "output_type": "execute_result",
          "data": {
            "text/plain": [
              "0.7009249743062693"
            ]
          },
          "metadata": {
            "tags": []
          },
          "execution_count": 15
        }
      ]
    },
    {
      "cell_type": "markdown",
      "metadata": {
        "id": "siEXAwM6HPVn",
        "colab_type": "text"
      },
      "source": [
        "##Part 2: Display the Feature Importance of all the features sorted in the order of decreasing influence on the CVD Risk (deliverable: Notebook) \n",
        "\n"
      ]
    },
    {
      "cell_type": "code",
      "metadata": {
        "id": "W8ILuN0vHJvE",
        "colab_type": "code",
        "outputId": "27fab497-b023-4a5e-9164-9590956d8bf4",
        "colab": {
          "base_uri": "https://localhost:8080/",
          "height": 170
        }
      },
      "source": [
        "#Ranking the variables\n",
        "fitted_model.fit(X_train/np.std(X_train,0),y_train)\n",
        "print(fitted_model.coef_)\n",
        "#decreasing order of importance of factors on CVD risk"
      ],
      "execution_count": 16,
      "outputs": [
        {
          "output_type": "stream",
          "text": [
            "[[ 7.45244706e-02 -8.01505637e-02  5.21280642e-01 -9.60003239e-02\n",
            "   5.77593714e-02 -4.42775934e-02 -8.25419866e-03 -1.29685805e-01\n",
            "  -3.80028251e-01 -1.54270019e-01 -8.14552397e-02  2.94370680e-01\n",
            "  -1.66758585e-01 -1.05306133e-01 -3.84175980e-01  1.86614009e-01\n",
            "   2.91422712e-02  8.64283493e-02  8.64283493e-02  1.02240428e-01\n",
            "  -9.29440610e-03 -2.09573264e-04 -3.54761552e-03  5.25301082e-03\n",
            "   6.59130245e-02  7.61292129e-02  2.13790912e-01  2.77964479e-01\n",
            "   1.33341482e-01  3.57819602e-03 -4.60674825e-02 -2.76322431e-02\n",
            "  -6.34425498e-01]]\n"
          ],
          "name": "stdout"
        }
      ]
    },
    {
      "cell_type": "code",
      "metadata": {
        "id": "2O0naKogbKk_",
        "colab_type": "code",
        "colab": {
          "base_uri": "https://localhost:8080/",
          "height": 595
        },
        "outputId": "aea66fd6-e98f-4b6e-82a0-ecb96d101586"
      },
      "source": [
        "features=np.std(X_train,0)*fitted_model.coef_[0]\n",
        "\n",
        "features.sort_values(ascending=False)"
      ],
      "execution_count": 20,
      "outputs": [
        {
          "output_type": "execute_result",
          "data": {
            "text/plain": [
              "waist           7.140247\n",
              "cgpkyr          1.169841\n",
              "age_s1          0.770909\n",
              "tired25_5       0.135355\n",
              "tired25_4       0.103766\n",
              "educat_4        0.064570\n",
              "happy25_2       0.050275\n",
              "tired25_6       0.035667\n",
              "tired25_3       0.022250\n",
              "parrptdiab_1    0.021475\n",
              "parrptdiab_1    0.021475\n",
              "mstat_8         0.017443\n",
              "tired25_2       0.013910\n",
              "srhype_1        0.013690\n",
              "hlthlm25_2      0.000482\n",
              "happy25_6       0.000479\n",
              "happy25_4      -0.000061\n",
              "happy25_5      -0.000478\n",
              "happy25_3      -0.003218\n",
              "bend25         -0.005551\n",
              "hlthlm25_4     -0.012441\n",
              "hlthlm25_3     -0.017111\n",
              "mstat_3        -0.026804\n",
              "race_2         -0.028329\n",
              "educat_3       -0.038186\n",
              "mstat_2        -0.047490\n",
              "race_3         -0.050011\n",
              "tea15          -0.054917\n",
              "mstat_4        -0.057488\n",
              "educat_2       -0.076895\n",
              "hlthlm25_5     -0.184642\n",
              "neck20         -0.327180\n",
              "av_weight_kg   -0.741227\n",
              "dtype: float64"
            ]
          },
          "metadata": {
            "tags": []
          },
          "execution_count": 20
        }
      ]
    },
    {
      "cell_type": "markdown",
      "metadata": {
        "id": "GrhxGI4YJs3Q",
        "colab_type": "text"
      },
      "source": [
        "##Part 3: Evaluate the performance of your model (including ROC Curve), explain the performance and draw a meaningful conclusion. (deliverable: Performance outputs in Notebook, explanation and conclusion in Word/PDF document) "
      ]
    },
    {
      "cell_type": "code",
      "metadata": {
        "id": "wKWwkEd_JzTY",
        "colab_type": "code",
        "outputId": "69f69d00-32d8-4d5d-fac3-eba17dde7a10",
        "colab": {
          "base_uri": "https://localhost:8080/",
          "height": 466
        }
      },
      "source": [
        "#printing a classification report of the model created\n",
        "from sklearn.metrics import classification_report, confusion_matrix\n",
        "print(classification_report(y_test,y_pred))\n",
        "\n",
        "\n",
        "#ROC curve \n",
        "\n",
        "from sklearn.metrics import roc_auc_score\n",
        "from sklearn.metrics import plot_roc_curve\n",
        "from sklearn.metrics import roc_curve, auc\n",
        "plot_roc_curve(clf, X_test, y_test)\n",
        "\n",
        "test_auc = print(\"ROC AUC score is  \",roc_auc_score(y_test, y_pred))\n",
        "print(test_auc)"
      ],
      "execution_count": 17,
      "outputs": [
        {
          "output_type": "stream",
          "text": [
            "              precision    recall  f1-score   support\n",
            "\n",
            "           0       0.74      0.46      0.57       415\n",
            "           1       0.69      0.88      0.77       558\n",
            "\n",
            "    accuracy                           0.70       973\n",
            "   macro avg       0.71      0.67      0.67       973\n",
            "weighted avg       0.71      0.70      0.68       973\n",
            "\n",
            "ROC AUC score is   0.670084639633804\n",
            "None\n"
          ],
          "name": "stdout"
        },
        {
          "output_type": "display_data",
          "data": {
            "image/png": "[encoded data removed]",
            "text/plain": [
              "<Figure size 432x288 with 1 Axes>"
            ]
          },
          "metadata": {
            "tags": []
          }
        }
      ]
    }
  ]
}