{
  "nbformat": 4,
  "nbformat_minor": 0,
  "metadata": {
    "colab": {
      "name": "CA04_EnsembleModels_Mohu.ipynb",
      "provenance": [],
      "collapsed_sections": []
    },
    "kernelspec": {
      "name": "python3",
      "display_name": "Python 3"
    }
  },
  "cells": [
    {
      "cell_type": "markdown",
      "metadata": {
        "id": "pT4V8G1uEGxt",
        "colab_type": "text"
      },
      "source": [
        "# CA04 – Ensemble Models "
      ]
    },
    {
      "cell_type": "markdown",
      "metadata": {
        "id": "ASCWmz0QEVB1",
        "colab_type": "text"
      },
      "source": [
        "##1.  Data Source and Contents \n",
        "\n",
        "Same as CA03 "
      ]
    },
    {
      "cell_type": "code",
      "metadata": {
        "id": "9rgH3ZNAEOVc",
        "colab_type": "code",
        "colab": {}
      },
      "source": [
        "import pandas as pd\n",
        "import numpy as np\n",
        "\n",
        "\n",
        "import matplotlib.pyplot as plt\n",
        "#import decision tree model\n",
        "from sklearn.tree import DecisionTreeClassifier\n",
        "\n",
        "#import ensemble models\n",
        "from sklearn.ensemble import RandomForestClassifier, AdaBoostClassifier, GradientBoostingClassifier\n",
        "#Accuracy score\n",
        "from sklearn.metrics import accuracy_score"
      ],
      "execution_count": 0,
      "outputs": []
    },
    {
      "cell_type": "markdown",
      "metadata": {
        "id": "LNZ5fpNOEg48",
        "colab_type": "text"
      },
      "source": [
        "### Read the dataset"
      ]
    },
    {
      "cell_type": "code",
      "metadata": {
        "id": "1dxwfRu0EjGm",
        "colab_type": "code",
        "outputId": "609318ea-a812-47d4-b77d-7fc814e62a97",
        "colab": {
          "base_uri": "https://localhost:8080/",
          "height": 204
        }
      },
      "source": [
        "#read datasets\n",
        "data = pd.read_csv(\"https://github.com/ArinB/MSBA-CA-03-Decision-Trees/blob/master/census_data.csv?raw=true\",low_memory=False)\n",
        "#look at the first 5 records\n",
        "data.head()\n"
      ],
      "execution_count": 2,
      "outputs": [
        {
          "output_type": "execute_result",
          "data": {
            "text/html": [
              "<div>\n",
              "<style scoped>\n",
              "    .dataframe tbody tr th:only-of-type {\n",
              "        vertical-align: middle;\n",
              "    }\n",
              "\n",
              "    .dataframe tbody tr th {\n",
              "        vertical-align: top;\n",
              "    }\n",
              "\n",
              "    .dataframe thead th {\n",
              "        text-align: right;\n",
              "    }\n",
              "</style>\n",
              "<table border=\"1\" class=\"dataframe\">\n",
              "  <thead>\n",
              "    <tr style=\"text-align: right;\">\n",
              "      <th></th>\n",
              "      <th>hours_per_week_bin</th>\n",
              "      <th>occupation_bin</th>\n",
              "      <th>msr_bin</th>\n",
              "      <th>capital_gl_bin</th>\n",
              "      <th>race_sex_bin</th>\n",
              "      <th>education_num_bin</th>\n",
              "      <th>education_bin</th>\n",
              "      <th>workclass_bin</th>\n",
              "      <th>age_bin</th>\n",
              "      <th>flag</th>\n",
              "      <th>y</th>\n",
              "    </tr>\n",
              "  </thead>\n",
              "  <tbody>\n",
              "    <tr>\n",
              "      <th>0</th>\n",
              "      <td>b. 31-40</td>\n",
              "      <td>b. Mid - Low</td>\n",
              "      <td>b. Mid</td>\n",
              "      <td>c. &gt; 0</td>\n",
              "      <td>c. High</td>\n",
              "      <td>c. 13</td>\n",
              "      <td>c. Bachelors</td>\n",
              "      <td>b. income</td>\n",
              "      <td>d. 36-40 &amp; 56-60</td>\n",
              "      <td>train</td>\n",
              "      <td>0</td>\n",
              "    </tr>\n",
              "    <tr>\n",
              "      <th>1</th>\n",
              "      <td>a. 0-30</td>\n",
              "      <td>e. High</td>\n",
              "      <td>c. High</td>\n",
              "      <td>a. = 0</td>\n",
              "      <td>c. High</td>\n",
              "      <td>c. 13</td>\n",
              "      <td>c. Bachelors</td>\n",
              "      <td>b. income</td>\n",
              "      <td>e. 40-55</td>\n",
              "      <td>train</td>\n",
              "      <td>0</td>\n",
              "    </tr>\n",
              "    <tr>\n",
              "      <th>2</th>\n",
              "      <td>b. 31-40</td>\n",
              "      <td>a. Low</td>\n",
              "      <td>b. Mid</td>\n",
              "      <td>a. = 0</td>\n",
              "      <td>c. High</td>\n",
              "      <td>b. 9-12</td>\n",
              "      <td>b. Mid</td>\n",
              "      <td>b. income</td>\n",
              "      <td>d. 36-40 &amp; 56-60</td>\n",
              "      <td>train</td>\n",
              "      <td>0</td>\n",
              "    </tr>\n",
              "    <tr>\n",
              "      <th>3</th>\n",
              "      <td>b. 31-40</td>\n",
              "      <td>a. Low</td>\n",
              "      <td>c. High</td>\n",
              "      <td>a. = 0</td>\n",
              "      <td>b. Mid</td>\n",
              "      <td>a. 0-8</td>\n",
              "      <td>a. Low</td>\n",
              "      <td>b. income</td>\n",
              "      <td>e. 40-55</td>\n",
              "      <td>train</td>\n",
              "      <td>0</td>\n",
              "    </tr>\n",
              "    <tr>\n",
              "      <th>4</th>\n",
              "      <td>b. 31-40</td>\n",
              "      <td>e. High</td>\n",
              "      <td>c. High</td>\n",
              "      <td>a. = 0</td>\n",
              "      <td>a. Low</td>\n",
              "      <td>c. 13</td>\n",
              "      <td>c. Bachelors</td>\n",
              "      <td>b. income</td>\n",
              "      <td>b. 26-30 &amp; 71-100</td>\n",
              "      <td>train</td>\n",
              "      <td>0</td>\n",
              "    </tr>\n",
              "  </tbody>\n",
              "</table>\n",
              "</div>"
            ],
            "text/plain": [
              "  hours_per_week_bin occupation_bin  msr_bin  ...            age_bin   flag  y\n",
              "0           b. 31-40   b. Mid - Low   b. Mid  ...   d. 36-40 & 56-60  train  0\n",
              "1            a. 0-30        e. High  c. High  ...           e. 40-55  train  0\n",
              "2           b. 31-40         a. Low   b. Mid  ...   d. 36-40 & 56-60  train  0\n",
              "3           b. 31-40         a. Low  c. High  ...           e. 40-55  train  0\n",
              "4           b. 31-40        e. High  c. High  ...  b. 26-30 & 71-100  train  0\n",
              "\n",
              "[5 rows x 11 columns]"
            ]
          },
          "metadata": {
            "tags": []
          },
          "execution_count": 2
        }
      ]
    },
    {
      "cell_type": "markdown",
      "metadata": {
        "id": "TRPZRGKtE0IS",
        "colab_type": "text"
      },
      "source": [
        "### Data preprocessing"
      ]
    },
    {
      "cell_type": "code",
      "metadata": {
        "id": "CDQ7DIuoE2IL",
        "colab_type": "code",
        "outputId": "b12afea6-e098-4621-8d9b-d3bca46e9b75",
        "colab": {
          "base_uri": "https://localhost:8080/",
          "height": 204
        }
      },
      "source": [
        "# splits hours per week \n",
        "hpw_new=data[\"hours_per_week_bin\"].str.split(\". \", n = 1, expand = True)\n",
        "data['hours_per_week']=hpw_new[1]\n",
        "\n",
        "#splitting Occupation\n",
        "occ_new=data[\"occupation_bin\"].str.split(\". \",n=1, expand =True)\n",
        "data[\"occupation\"]=occ_new[1]\n",
        "\n",
        "#marital status\n",
        "msr_new=data[\"msr_bin\"].str.split(\". \",n=1, expand=True)\n",
        "data[\"msr\"]=msr_new[1]\n",
        "\n",
        "#capitalgain/loss\n",
        "cgb_new=data[\"capital_gl_bin\"].str.split(\". \",n=1, expand=True)\n",
        "data[\"capital_gl\"]=cgb_new[1]\n",
        "\n",
        "#Race and sex\n",
        "\n",
        "rs_new=data[\"race_sex_bin\"].str.split(\". \",n=1, expand=True)\n",
        "data[\"race_sex\"]=rs_new[1]\n",
        "\n",
        "#education bin\n",
        "edu_new=data[\"education_bin\"].str.split(\". \",n=1, expand=True)\n",
        "data[\"education\"]=edu_new[1]\n",
        "\n",
        "\n",
        "#Age\n",
        "age_new=data[\"age_bin\"].str.split(\". \",n=1, expand=True)\n",
        "data[\"age\"]=age_new[1]\n",
        "data.head()\n",
        "\n",
        "\n",
        "# and then remove the unnecessary columns\n",
        "data = data.drop(['hours_per_week_bin','occupation_bin','msr_bin','capital_gl_bin','education_bin','age_bin','race_sex_bin','workclass_bin','education_num_bin'], axis=1)\n",
        "data.head()"
      ],
      "execution_count": 3,
      "outputs": [
        {
          "output_type": "execute_result",
          "data": {
            "text/html": [
              "<div>\n",
              "<style scoped>\n",
              "    .dataframe tbody tr th:only-of-type {\n",
              "        vertical-align: middle;\n",
              "    }\n",
              "\n",
              "    .dataframe tbody tr th {\n",
              "        vertical-align: top;\n",
              "    }\n",
              "\n",
              "    .dataframe thead th {\n",
              "        text-align: right;\n",
              "    }\n",
              "</style>\n",
              "<table border=\"1\" class=\"dataframe\">\n",
              "  <thead>\n",
              "    <tr style=\"text-align: right;\">\n",
              "      <th></th>\n",
              "      <th>flag</th>\n",
              "      <th>y</th>\n",
              "      <th>hours_per_week</th>\n",
              "      <th>occupation</th>\n",
              "      <th>msr</th>\n",
              "      <th>capital_gl</th>\n",
              "      <th>race_sex</th>\n",
              "      <th>education</th>\n",
              "      <th>age</th>\n",
              "    </tr>\n",
              "  </thead>\n",
              "  <tbody>\n",
              "    <tr>\n",
              "      <th>0</th>\n",
              "      <td>train</td>\n",
              "      <td>0</td>\n",
              "      <td>31-40</td>\n",
              "      <td>Mid - Low</td>\n",
              "      <td>Mid</td>\n",
              "      <td>&gt; 0</td>\n",
              "      <td>High</td>\n",
              "      <td>Bachelors</td>\n",
              "      <td>36-40 &amp; 56-60</td>\n",
              "    </tr>\n",
              "    <tr>\n",
              "      <th>1</th>\n",
              "      <td>train</td>\n",
              "      <td>0</td>\n",
              "      <td>0-30</td>\n",
              "      <td>High</td>\n",
              "      <td>High</td>\n",
              "      <td>= 0</td>\n",
              "      <td>High</td>\n",
              "      <td>Bachelors</td>\n",
              "      <td>40-55</td>\n",
              "    </tr>\n",
              "    <tr>\n",
              "      <th>2</th>\n",
              "      <td>train</td>\n",
              "      <td>0</td>\n",
              "      <td>31-40</td>\n",
              "      <td>Low</td>\n",
              "      <td>Mid</td>\n",
              "      <td>= 0</td>\n",
              "      <td>High</td>\n",
              "      <td>Mid</td>\n",
              "      <td>36-40 &amp; 56-60</td>\n",
              "    </tr>\n",
              "    <tr>\n",
              "      <th>3</th>\n",
              "      <td>train</td>\n",
              "      <td>0</td>\n",
              "      <td>31-40</td>\n",
              "      <td>Low</td>\n",
              "      <td>High</td>\n",
              "      <td>= 0</td>\n",
              "      <td>Mid</td>\n",
              "      <td>Low</td>\n",
              "      <td>40-55</td>\n",
              "    </tr>\n",
              "    <tr>\n",
              "      <th>4</th>\n",
              "      <td>train</td>\n",
              "      <td>0</td>\n",
              "      <td>31-40</td>\n",
              "      <td>High</td>\n",
              "      <td>High</td>\n",
              "      <td>= 0</td>\n",
              "      <td>Low</td>\n",
              "      <td>Bachelors</td>\n",
              "      <td>26-30 &amp; 71-100</td>\n",
              "    </tr>\n",
              "  </tbody>\n",
              "</table>\n",
              "</div>"
            ],
            "text/plain": [
              "    flag  y hours_per_week  ... race_sex  education             age\n",
              "0  train  0          31-40  ...     High  Bachelors   36-40 & 56-60\n",
              "1  train  0           0-30  ...     High  Bachelors           40-55\n",
              "2  train  0          31-40  ...     High        Mid   36-40 & 56-60\n",
              "3  train  0          31-40  ...      Mid        Low           40-55\n",
              "4  train  0          31-40  ...      Low  Bachelors  26-30 & 71-100\n",
              "\n",
              "[5 rows x 9 columns]"
            ]
          },
          "metadata": {
            "tags": []
          },
          "execution_count": 3
        }
      ]
    },
    {
      "cell_type": "markdown",
      "metadata": {
        "id": "I9IrwEeXE4PC",
        "colab_type": "text"
      },
      "source": [
        "### Create Dummy variables"
      ]
    },
    {
      "cell_type": "code",
      "metadata": {
        "id": "RSag2lVsFgE2",
        "colab_type": "code",
        "outputId": "8278daa8-3009-4513-9dc4-5c6a94f456b3",
        "colab": {
          "base_uri": "https://localhost:8080/",
          "height": 258
        }
      },
      "source": [
        "data = pd.get_dummies(data, columns=['hours_per_week', 'occupation', 'msr', 'capital_gl', 'race_sex', 'education', 'age'],drop_first=True)\n",
        "data.head()"
      ],
      "execution_count": 4,
      "outputs": [
        {
          "output_type": "execute_result",
          "data": {
            "text/html": [
              "<div>\n",
              "<style scoped>\n",
              "    .dataframe tbody tr th:only-of-type {\n",
              "        vertical-align: middle;\n",
              "    }\n",
              "\n",
              "    .dataframe tbody tr th {\n",
              "        vertical-align: top;\n",
              "    }\n",
              "\n",
              "    .dataframe thead th {\n",
              "        text-align: right;\n",
              "    }\n",
              "</style>\n",
              "<table border=\"1\" class=\"dataframe\">\n",
              "  <thead>\n",
              "    <tr style=\"text-align: right;\">\n",
              "      <th></th>\n",
              "      <th>flag</th>\n",
              "      <th>y</th>\n",
              "      <th>hours_per_week_31-40</th>\n",
              "      <th>hours_per_week_41-50 &amp; 61-70</th>\n",
              "      <th>hours_per_week_51-60</th>\n",
              "      <th>hours_per_week_71-100</th>\n",
              "      <th>occupation_Low</th>\n",
              "      <th>occupation_Mid - High</th>\n",
              "      <th>occupation_Mid - Low</th>\n",
              "      <th>occupation_Mid - Mid</th>\n",
              "      <th>msr_Low</th>\n",
              "      <th>msr_Mid</th>\n",
              "      <th>capital_gl_= 0</th>\n",
              "      <th>capital_gl_&gt; 0</th>\n",
              "      <th>race_sex_Low</th>\n",
              "      <th>race_sex_Mid</th>\n",
              "      <th>education_High</th>\n",
              "      <th>education_Low</th>\n",
              "      <th>education_Masters</th>\n",
              "      <th>education_Mid</th>\n",
              "      <th>age_26-30 &amp; 71-100</th>\n",
              "      <th>age_31-35 &amp; 61-70</th>\n",
              "      <th>age_36-40 &amp; 56-60</th>\n",
              "      <th>age_40-55</th>\n",
              "    </tr>\n",
              "  </thead>\n",
              "  <tbody>\n",
              "    <tr>\n",
              "      <th>0</th>\n",
              "      <td>train</td>\n",
              "      <td>0</td>\n",
              "      <td>1</td>\n",
              "      <td>0</td>\n",
              "      <td>0</td>\n",
              "      <td>0</td>\n",
              "      <td>0</td>\n",
              "      <td>0</td>\n",
              "      <td>1</td>\n",
              "      <td>0</td>\n",
              "      <td>0</td>\n",
              "      <td>1</td>\n",
              "      <td>0</td>\n",
              "      <td>1</td>\n",
              "      <td>0</td>\n",
              "      <td>0</td>\n",
              "      <td>0</td>\n",
              "      <td>0</td>\n",
              "      <td>0</td>\n",
              "      <td>0</td>\n",
              "      <td>0</td>\n",
              "      <td>0</td>\n",
              "      <td>1</td>\n",
              "      <td>0</td>\n",
              "    </tr>\n",
              "    <tr>\n",
              "      <th>1</th>\n",
              "      <td>train</td>\n",
              "      <td>0</td>\n",
              "      <td>0</td>\n",
              "      <td>0</td>\n",
              "      <td>0</td>\n",
              "      <td>0</td>\n",
              "      <td>0</td>\n",
              "      <td>0</td>\n",
              "      <td>0</td>\n",
              "      <td>0</td>\n",
              "      <td>0</td>\n",
              "      <td>0</td>\n",
              "      <td>1</td>\n",
              "      <td>0</td>\n",
              "      <td>0</td>\n",
              "      <td>0</td>\n",
              "      <td>0</td>\n",
              "      <td>0</td>\n",
              "      <td>0</td>\n",
              "      <td>0</td>\n",
              "      <td>0</td>\n",
              "      <td>0</td>\n",
              "      <td>0</td>\n",
              "      <td>1</td>\n",
              "    </tr>\n",
              "    <tr>\n",
              "      <th>2</th>\n",
              "      <td>train</td>\n",
              "      <td>0</td>\n",
              "      <td>1</td>\n",
              "      <td>0</td>\n",
              "      <td>0</td>\n",
              "      <td>0</td>\n",
              "      <td>1</td>\n",
              "      <td>0</td>\n",
              "      <td>0</td>\n",
              "      <td>0</td>\n",
              "      <td>0</td>\n",
              "      <td>1</td>\n",
              "      <td>1</td>\n",
              "      <td>0</td>\n",
              "      <td>0</td>\n",
              "      <td>0</td>\n",
              "      <td>0</td>\n",
              "      <td>0</td>\n",
              "      <td>0</td>\n",
              "      <td>1</td>\n",
              "      <td>0</td>\n",
              "      <td>0</td>\n",
              "      <td>1</td>\n",
              "      <td>0</td>\n",
              "    </tr>\n",
              "    <tr>\n",
              "      <th>3</th>\n",
              "      <td>train</td>\n",
              "      <td>0</td>\n",
              "      <td>1</td>\n",
              "      <td>0</td>\n",
              "      <td>0</td>\n",
              "      <td>0</td>\n",
              "      <td>1</td>\n",
              "      <td>0</td>\n",
              "      <td>0</td>\n",
              "      <td>0</td>\n",
              "      <td>0</td>\n",
              "      <td>0</td>\n",
              "      <td>1</td>\n",
              "      <td>0</td>\n",
              "      <td>0</td>\n",
              "      <td>1</td>\n",
              "      <td>0</td>\n",
              "      <td>1</td>\n",
              "      <td>0</td>\n",
              "      <td>0</td>\n",
              "      <td>0</td>\n",
              "      <td>0</td>\n",
              "      <td>0</td>\n",
              "      <td>1</td>\n",
              "    </tr>\n",
              "    <tr>\n",
              "      <th>4</th>\n",
              "      <td>train</td>\n",
              "      <td>0</td>\n",
              "      <td>1</td>\n",
              "      <td>0</td>\n",
              "      <td>0</td>\n",
              "      <td>0</td>\n",
              "      <td>0</td>\n",
              "      <td>0</td>\n",
              "      <td>0</td>\n",
              "      <td>0</td>\n",
              "      <td>0</td>\n",
              "      <td>0</td>\n",
              "      <td>1</td>\n",
              "      <td>0</td>\n",
              "      <td>1</td>\n",
              "      <td>0</td>\n",
              "      <td>0</td>\n",
              "      <td>0</td>\n",
              "      <td>0</td>\n",
              "      <td>0</td>\n",
              "      <td>1</td>\n",
              "      <td>0</td>\n",
              "      <td>0</td>\n",
              "      <td>0</td>\n",
              "    </tr>\n",
              "  </tbody>\n",
              "</table>\n",
              "</div>"
            ],
            "text/plain": [
              "    flag  y  ...  age_36-40 & 56-60  age_40-55\n",
              "0  train  0  ...                  1          0\n",
              "1  train  0  ...                  0          1\n",
              "2  train  0  ...                  1          0\n",
              "3  train  0  ...                  0          1\n",
              "4  train  0  ...                  0          0\n",
              "\n",
              "[5 rows x 24 columns]"
            ]
          },
          "metadata": {
            "tags": []
          },
          "execution_count": 4
        }
      ]
    },
    {
      "cell_type": "code",
      "metadata": {
        "id": "zCSm1AYbSoi3",
        "colab_type": "code",
        "colab": {}
      },
      "source": [
        "#change column names for the xgboost model\n",
        "data.columns=data.columns.str.replace('<','less')\n",
        "data.columns=data.columns.str.replace('>','more')\n",
        "data.columns=data.columns.str.replace('&','and')\n"
      ],
      "execution_count": 0,
      "outputs": []
    },
    {
      "cell_type": "markdown",
      "metadata": {
        "id": "mOaxgZEQFptQ",
        "colab_type": "text"
      },
      "source": [
        "### Split the Dataset into test and train"
      ]
    },
    {
      "cell_type": "code",
      "metadata": {
        "id": "7sYOIQPOFuKo",
        "colab_type": "code",
        "outputId": "47e300ce-3003-4184-e421-1fd5940e2608",
        "colab": {
          "base_uri": "https://localhost:8080/",
          "height": 34
        }
      },
      "source": [
        "#Split data into training and test datasets\n",
        "#Training data\n",
        "\n",
        "data_train=data.loc[data['flag']=='train'] #select rows with flag as train\n",
        "x_train=data_train.drop(['y','flag'], axis=1)\n",
        "\n",
        "x_train.head()\n",
        "y_train = data_train['y']\n",
        "\n",
        "#Testing data\n",
        "data_test=data.loc[data['flag']=='test'] #select rows with flag as train\n",
        "x_test=data_test.drop(['y','flag'], axis=1)\n",
        "\n",
        "y_test = data_test['y']\n",
        "\n",
        "data_att = data.drop(['y','flag'], axis=1) # all the columns except outcome column \n",
        "data_income = data['y'] #crete a variable with income column of entire data set\n",
        "# number of income > 50K in whole dataset:\n",
        "print(\"Income >50K: %d out of %d (%.2f%%)\" % (np.sum(data_income), len(data_income), 100*float(np.sum(data_income)) / len(data_income)))"
      ],
      "execution_count": 7,
      "outputs": [
        {
          "output_type": "stream",
          "text": [
            "Income >50K: 11687 out of 48842 (23.93%)\n"
          ],
          "name": "stdout"
        }
      ]
    },
    {
      "cell_type": "markdown",
      "metadata": {
        "id": "rivuYc4DGnSN",
        "colab_type": "text"
      },
      "source": [
        "##  2. Finding Optimal Value of a key Hyper-parameter"
      ]
    },
    {
      "cell_type": "code",
      "metadata": {
        "id": "D22gf5xTGp69",
        "colab_type": "code",
        "outputId": "adee9125-1f55-4c11-df84-86d2ebab848b",
        "colab": {
          "base_uri": "https://localhost:8080/",
          "height": 284
        }
      },
      "source": [
        "results=[] #create an empty list to store the accuracy scores using different hyper-parameters\n",
        "max_depth_options=[2,4,6,8,10,12,14,16,18,20] # creating a list of different hyper-parameter options\n",
        "for trees in max_depth_options: \n",
        "  model=DecisionTreeClassifier(max_depth=trees,random_state=101) #bulding the model\n",
        "  model.fit(x_train,y_train) #fitting the model on training dataset\n",
        "  y_pred=model.predict(x_test) #predicting\n",
        "  accuracy=np.mean(y_test==y_pred) #calculate accuracy\n",
        "  results.append(accuracy) #store accuracy in results list\n",
        "\n",
        "#display how model performs with different hyper-parameters\n",
        "plt.figure(figsize=(8,4)) \n",
        "pd.Series(results,max_depth_options).plot(color=\"darkred\",marker='o')"
      ],
      "execution_count": 9,
      "outputs": [
        {
          "output_type": "execute_result",
          "data": {
            "text/plain": [
              "<matplotlib.axes._subplots.AxesSubplot at 0x7f298ceb49b0>"
            ]
          },
          "metadata": {
            "tags": []
          },
          "execution_count": 9
        },
        {
          "output_type": "display_data",
          "data": {
            "image/png": "[encoded data removed]",
            "text/plain": [
              "<Figure size 576x288 with 1 Axes>"
            ]
          },
          "metadata": {
            "tags": []
          }
        }
      ]
    },
    {
      "cell_type": "markdown",
      "metadata": {
        "id": "1uPZxWNJH8Ds",
        "colab_type": "text"
      },
      "source": [
        "## 3. Building a Random Forest Model\n",
        "\n",
        "Using Notebook, and the same data source from CA03, train a Random Forest Model. Using similar approach of Section 2 above, plot a graph of Accuracy vs. n_estimator. Use n_estimator values as [50,100,150,200,250,300,350,400,450,500]. "
      ]
    },
    {
      "cell_type": "code",
      "metadata": {
        "id": "v-3JANvoISrB",
        "colab_type": "code",
        "outputId": "4208f939-c714-4618-bc9f-1291035a50d9",
        "colab": {
          "base_uri": "https://localhost:8080/",
          "height": 313
        }
      },
      "source": [
        "#Random Forest Classifier\n",
        "results=[]\n",
        "n_estimators_options=[50,100,150,200,250,300,350,400,450,500] # creating a list of n_estimator hyper-parameter options\n",
        "for n in n_estimators_options:\n",
        "  model=RandomForestClassifier(n_estimators=n,max_features='auto', random_state=101)\n",
        "  model.fit(x_train,y_train)\n",
        "  y_pred=model.predict(x_test)\n",
        "  accuracy=np.mean(y_test==y_pred)\n",
        "  results.append(accuracy)\n",
        "\n",
        "plt.figure(figsize=(8,4))\n",
        "pd.Series(results,n_estimators_options).plot(color=\"blue\",marker='o')\n",
        "plt.xlabel(\"n_estimators\")\n",
        "plt.ylabel(\"Accuracy score\")\n",
        "plt.title(\"Random Forest\")\n",
        "#The line graph below displays how the model performs with different n_estimators"
      ],
      "execution_count": 21,
      "outputs": [
        {
          "output_type": "execute_result",
          "data": {
            "text/plain": [
              "Text(0.5, 1.0, 'Random Forest')"
            ]
          },
          "metadata": {
            "tags": []
          },
          "execution_count": 21
        },
        {
          "output_type": "display_data",
          "data": {
            "image/png": "[encoded data removed]",
            "text/plain": [
              "<Figure size 576x288 with 1 Axes>"
            ]
          },
          "metadata": {
            "tags": []
          }
        }
      ]
    },
    {
      "cell_type": "markdown",
      "metadata": {
        "id": "jBT2rUw7MNtt",
        "colab_type": "text"
      },
      "source": [
        "## 4. Building AdaBoost, Gradiant Boost Classifier Model and XGB models"
      ]
    },
    {
      "cell_type": "markdown",
      "metadata": {
        "id": "ZFTs6rgYMZ2M",
        "colab_type": "text"
      },
      "source": [
        "## Build AdaBoost model"
      ]
    },
    {
      "cell_type": "code",
      "metadata": {
        "id": "2WSXwLRWMeeG",
        "colab_type": "code",
        "outputId": "8a6e55e0-3a92-465f-c428-081ecbf7ac88",
        "colab": {
          "base_uri": "https://localhost:8080/",
          "height": 333
        }
      },
      "source": [
        "\n",
        "results=[]\n",
        "n_estimators_options=[50,100,150,200,250,300,350,400,450,500]\n",
        "for n in n_estimators_options:\n",
        "  \n",
        "  ab_model=AdaBoostClassifier(n_estimators=n,random_state=101) #Running Adaboost model\n",
        "  ab_model.fit(x_train,y_train)\n",
        "  y_pred=ab_model.predict(x_test)\n",
        "  accuracy=accuracy_score(y_test,y_pred)\n",
        "  results.append(accuracy)\n",
        "\n",
        "plt.figure(figsize=(8,4))\n",
        "pd.Series(results,n_estimators_options).plot(color=\"brown\",marker='o')\n",
        "plt.xlabel(\"n_estimators\")\n",
        "plt.ylabel(\"Accuracy score\")\n",
        "plt.title(\"AdaBoost Classifier\")\n",
        "print(results)\n",
        "#Below line graph displays the best performing Adaboost model with different n_estimators"
      ],
      "execution_count": 22,
      "outputs": [
        {
          "output_type": "stream",
          "text": [
            "[0.8434985565997175, 0.8452183526810393, 0.8450340888151834, 0.8449726675265647, 0.8448498249493275, 0.845095510103802, 0.8451569313924207, 0.8451569313924207, 0.8451569313924207, 0.8451569313924207]\n"
          ],
          "name": "stdout"
        },
        {
          "output_type": "display_data",
          "data": {
            "image/png": "[encoded data removed]",
            "text/plain": [
              "<Figure size 576x288 with 1 Axes>"
            ]
          },
          "metadata": {
            "tags": []
          }
        }
      ]
    },
    {
      "cell_type": "markdown",
      "metadata": {
        "id": "xO-mklVaNnYK",
        "colab_type": "text"
      },
      "source": [
        "## Gradient Boost model"
      ]
    },
    {
      "cell_type": "code",
      "metadata": {
        "id": "_j7ExyaiNqB3",
        "colab_type": "code",
        "outputId": "c865f615-2561-4fb0-c278-ffdc76e1fee0",
        "colab": {
          "base_uri": "https://localhost:8080/",
          "height": 313
        }
      },
      "source": [
        "results=[]\n",
        "n_estimators_options=[50,100,150,200,250,300,350,400,450,500]\n",
        "for n in n_estimators_options:\n",
        "  model=GradientBoostingClassifier(n_estimators=n,learning_rate=0.1,max_depth=2,random_state=0)\n",
        "  model.fit(x_train,y_train)\n",
        "  y_pred=model.predict(x_test)\n",
        "  accuracy=np.mean(y_test==y_pred)\n",
        "  results.append(accuracy)\n",
        "\n",
        "plt.figure(figsize=(8,4))\n",
        "pd.Series(results,n_estimators_options).plot(color=\"brown\",marker='o')\n",
        "plt.xlabel(\"n_estimators\")\n",
        "plt.ylabel(\"Accuracy score\")\n",
        "plt.title(\"Gradient Boost Classifier\")"
      ],
      "execution_count": 23,
      "outputs": [
        {
          "output_type": "execute_result",
          "data": {
            "text/plain": [
              "Text(0.5, 1.0, 'Gradient Boost Classifier')"
            ]
          },
          "metadata": {
            "tags": []
          },
          "execution_count": 23
        },
        {
          "output_type": "display_data",
          "data": {
            "image/png": "[encoded data removed]",
            "text/plain": [
              "<Figure size 576x288 with 1 Axes>"
            ]
          },
          "metadata": {
            "tags": []
          }
        }
      ]
    },
    {
      "cell_type": "markdown",
      "metadata": {
        "id": "N__PtWrTOlpk",
        "colab_type": "text"
      },
      "source": [
        "## XG Boost Model"
      ]
    },
    {
      "cell_type": "code",
      "metadata": {
        "id": "lmmppFbsPbkg",
        "colab_type": "code",
        "colab": {}
      },
      "source": [
        "#import necessary libraries \n",
        "from sklearn import datasets\n",
        "import xgboost\n",
        "from xgboost import XGBClassifier\n",
        "from sklearn.metrics import roc_auc_score"
      ],
      "execution_count": 0,
      "outputs": []
    },
    {
      "cell_type": "code",
      "metadata": {
        "id": "j3oAen6FYkVB",
        "colab_type": "code",
        "outputId": "3102a3c6-8dc6-44f0-d794-7426e7891111",
        "colab": {
          "base_uri": "https://localhost:8080/",
          "height": 330
        }
      },
      "source": [
        "results=[]\n",
        "n_estimators_options=[50,100,150,200,250,300,350,400,450,500]\n",
        "for n in n_estimators_options:\n",
        "  model=XGBClassifier(n_estimators=n, random_state=101)\n",
        "  model.fit(x_train,y_train)\n",
        "  y_pred=model.predict(x_test)\n",
        "  accuracy=np.mean(y_test==y_pred)\n",
        "  results.append(accuracy)\n",
        "\n",
        "plt.figure(figsize=(8,4))\n",
        "pd.Series(results,n_estimators_options).plot(color=\"brown\",marker='o')\n",
        "print(\"AUC\", roc_auc_score(y_test,y_pred))\n",
        "plt.xlabel(\"n_estimators\")\n",
        "plt.ylabel(\"Accuracy score\")\n",
        "plt.title(\"XG Boost Classifier\")"
      ],
      "execution_count": 24,
      "outputs": [
        {
          "output_type": "stream",
          "text": [
            "AUC 0.7573206571206154\n"
          ],
          "name": "stdout"
        },
        {
          "output_type": "execute_result",
          "data": {
            "text/plain": [
              "Text(0.5, 1.0, 'XG Boost Classifier')"
            ]
          },
          "metadata": {
            "tags": []
          },
          "execution_count": 24
        },
        {
          "output_type": "display_data",
          "data": {
            "image/png": "[encoded data removed]",
            "text/plain": [
              "<Figure size 576x288 with 1 Axes>"
            ]
          },
          "metadata": {
            "tags": []
          }
        }
      ]
    },
    {
      "cell_type": "markdown",
      "metadata": {
        "id": "-LUyDOGBnsNU",
        "colab_type": "text"
      },
      "source": [
        "## 5. Compare Performance\n",
        "\n",
        "Using the best hyper-parameter from the random forest and keeping it common for all the models\n"
      ]
    },
    {
      "cell_type": "code",
      "metadata": {
        "id": "1TIgNmwmnwlq",
        "colab_type": "code",
        "colab": {}
      },
      "source": [
        "#Random forest \n",
        "Random_state=101\n",
        "n=500 #this parameter of n_estimator, Random_state  will be common for all the models\n",
        "\n",
        "rf_model=RandomForestClassifier(n_estimators=n,max_features='auto', random_state=Random_state)\n",
        "rf_model.fit(x_train,y_train)\n",
        "y_pred=rf_model.predict(x_test)\n",
        "rf_accuracy=np.mean(y_test==y_pred)\n",
        "rf_auc=roc_auc_score(y_test,y_pred)\n",
        "\n",
        "#AdaBoost\n",
        "ab_model=AdaBoostClassifier(n_estimators=n,random_state=Random_state)\n",
        "ab_model.fit(x_train,y_train)\n",
        "y_pred=ab_model.predict(x_test)\n",
        "ab_accuracy=np.mean(y_test==y_pred)\n",
        "ab_auc=roc_auc_score(y_test,y_pred)\n",
        "\n",
        "#Gradient Boost\n",
        "\n",
        "model=GradientBoostingClassifier(n_estimators=n,learning_rate=0.1,max_depth=2,random_state=0)\n",
        "model.fit(x_train,y_train)\n",
        "y_pred=model.predict(x_test)\n",
        "gb_accuracy=np.mean(y_test==y_pred)\n",
        "gb_auc=roc_auc_score(y_test,y_pred)\n",
        "\n",
        "#XGBoost\n",
        "xg_model=XGBClassifier(n_estimators=n, random_state=Random_state)\n",
        "xg_model.fit(x_train,y_train)\n",
        "y_pred=xg_model.predict(x_test)\n",
        "xg_accuracy=np.mean(y_test==y_pred)\n",
        "xg_auc=roc_auc_score(y_test,y_pred)\n",
        "\n",
        "\n",
        "                            \n",
        "\n"
      ],
      "execution_count": 0,
      "outputs": []
    },
    {
      "cell_type": "code",
      "metadata": {
        "id": "I_kLxoGXtvYp",
        "colab_type": "code",
        "outputId": "b26c14f1-9036-40bc-8646-a3ecaa3c8986",
        "colab": {
          "base_uri": "https://localhost:8080/",
          "height": 173
        }
      },
      "source": [
        "#add the results into a dataframe table\n",
        "performance_df=pd.DataFrame({'Random Forest': [rf_accuracy,rf_auc,n,Random_state],\n",
        "                             'AdaBoost': [ab_accuracy,ab_auc,n,Random_state], \n",
        "                             'Gradient Boosting': [gb_accuracy,gb_auc,n,Random_state],\n",
        "                             'XGBoost': [xg_accuracy,xg_auc,n,Random_state]}\n",
        "                            ,index=['Accuracy','AUC','N_estimator','random_state'])\n",
        "performance_df.round(3) # just display 3 digitsa after decimal"
      ],
      "execution_count": 20,
      "outputs": [
        {
          "output_type": "execute_result",
          "data": {
            "text/html": [
              "<div>\n",
              "<style scoped>\n",
              "    .dataframe tbody tr th:only-of-type {\n",
              "        vertical-align: middle;\n",
              "    }\n",
              "\n",
              "    .dataframe tbody tr th {\n",
              "        vertical-align: top;\n",
              "    }\n",
              "\n",
              "    .dataframe thead th {\n",
              "        text-align: right;\n",
              "    }\n",
              "</style>\n",
              "<table border=\"1\" class=\"dataframe\">\n",
              "  <thead>\n",
              "    <tr style=\"text-align: right;\">\n",
              "      <th></th>\n",
              "      <th>Random Forest</th>\n",
              "      <th>AdaBoost</th>\n",
              "      <th>Gradient Boosting</th>\n",
              "      <th>XGBoost</th>\n",
              "    </tr>\n",
              "  </thead>\n",
              "  <tbody>\n",
              "    <tr>\n",
              "      <th>Accuracy</th>\n",
              "      <td>0.839</td>\n",
              "      <td>0.845</td>\n",
              "      <td>0.845</td>\n",
              "      <td>0.847</td>\n",
              "    </tr>\n",
              "    <tr>\n",
              "      <th>AUC</th>\n",
              "      <td>0.747</td>\n",
              "      <td>0.747</td>\n",
              "      <td>0.751</td>\n",
              "      <td>0.757</td>\n",
              "    </tr>\n",
              "    <tr>\n",
              "      <th>N_estimator</th>\n",
              "      <td>500.000</td>\n",
              "      <td>500.000</td>\n",
              "      <td>500.000</td>\n",
              "      <td>500.000</td>\n",
              "    </tr>\n",
              "    <tr>\n",
              "      <th>random_state</th>\n",
              "      <td>101.000</td>\n",
              "      <td>101.000</td>\n",
              "      <td>101.000</td>\n",
              "      <td>101.000</td>\n",
              "    </tr>\n",
              "  </tbody>\n",
              "</table>\n",
              "</div>"
            ],
            "text/plain": [
              "              Random Forest  AdaBoost  Gradient Boosting  XGBoost\n",
              "Accuracy              0.839     0.845              0.845    0.847\n",
              "AUC                   0.747     0.747              0.751    0.757\n",
              "N_estimator         500.000   500.000            500.000  500.000\n",
              "random_state        101.000   101.000            101.000  101.000"
            ]
          },
          "metadata": {
            "tags": []
          },
          "execution_count": 20
        }
      ]
    }
  ]
}